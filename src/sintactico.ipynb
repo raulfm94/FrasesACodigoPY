{
 "cells": [
  {
   "cell_type": "code",
   "execution_count": 113,
   "metadata": {
    "collapsed": false
   },
   "outputs": [],
   "source": [
    "\n",
    "def tokens_from_file(name_of_file):\n",
    "    file = open(name_of_file, \"r\")\n",
    "    word = \"\"\n",
    "    list1 = []\n",
    "    list2 = []\n",
    "    i = 0\n",
    "    read = False\n",
    "    with file as fileobj:\n",
    "        for line in fileobj:\n",
    "            for ch in line:\n",
    "                if ch == \"\\'\" and read == False:\n",
    "                    read = True\n",
    "                    i+=1\n",
    "                    continue\n",
    "                if read == True and ch == \"\\'\":\n",
    "                    read = False\n",
    "                    if i % 2 == 0:\n",
    "                        list1.append(word)\n",
    "                    elif i % 2 != 0:\n",
    "                        list2.append(word)\n",
    "                    word = \"\"\n",
    "                if(read == True):\n",
    "                    word += ch\n",
    "    zipped = zip(list1, list2)\n",
    "    file.close()\n",
    "    return list(zipped)\n"
   ]
  },
  {
   "cell_type": "code",
   "execution_count": 123,
   "metadata": {
    "collapsed": false
   },
   "outputs": [
    {
     "name": "stdout",
     "output_type": "stream",
     "text": [
      "A tuple ('NN', 'dog')\n",
      "A tuple ('ASSIGN', 'is')\n",
      "A tuple ('NNP', 'Class')\n",
      "True\n"
     ]
    }
   ],
   "source": [
    "iterator = 0\n",
    "def empatar():\n",
    "    global iterator\n",
    "    iterator=iterator + 1\n",
    "    \n",
    "def class_Definition(tokens):\n",
    "    if tokens[iterator][0] == \"NN\":\n",
    "        empatar()\n",
    "        if tokens[iterator][0] == \"ASSIGN\":\n",
    "            empatar()\n",
    "            if tokens[iterator][0] == \"NNP\":\n",
    "                empatar()\n",
    "                return True\n",
    "    return False\n",
    "        \n",
    "def access_to_touple(tokens):\n",
    "    for item in tokens:\n",
    "        print (\"A tuple\", item)\n",
    "    #for a, b in tokens:\n",
    "    #    print (\"First\", a, \"then\", b)\n",
    "    #print(tokens[1])\n",
    "    \n",
    "\n",
    "if __name__ == \"__main__\":\n",
    "    name_of_file = \"tokens.txt\"\n",
    "    tokens  = tokens_from_file(name_of_file)\n",
    "    access_to_touple(tokens)\n",
    "    print(class_Definition(tokens))\n",
    "    \n",
    "\n",
    "    "
   ]
  }
 ],
 "metadata": {
  "kernelspec": {
   "display_name": "Python 3",
   "language": "python",
   "name": "python3"
  },
  "language_info": {
   "codemirror_mode": {
    "name": "ipython",
    "version": 3
   },
   "file_extension": ".py",
   "mimetype": "text/x-python",
   "name": "python",
   "nbconvert_exporter": "python",
   "pygments_lexer": "ipython3",
   "version": "3.6.0"
  }
 },
 "nbformat": 4,
 "nbformat_minor": 2
}
